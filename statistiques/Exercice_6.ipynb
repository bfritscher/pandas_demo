{
 "cells": [
  {
   "cell_type": "code",
   "execution_count": 36,
   "metadata": {},
   "outputs": [],
   "source": [
    "import pandas as pd\n",
    "import numpy as np"
   ]
  },
  {
   "cell_type": "code",
   "execution_count": 10,
   "metadata": {},
   "outputs": [
    {
     "data": {
      "text/html": [
       "<div>\n",
       "<style scoped>\n",
       "    .dataframe tbody tr th:only-of-type {\n",
       "        vertical-align: middle;\n",
       "    }\n",
       "\n",
       "    .dataframe tbody tr th {\n",
       "        vertical-align: top;\n",
       "    }\n",
       "\n",
       "    .dataframe thead th {\n",
       "        text-align: right;\n",
       "    }\n",
       "</style>\n",
       "<table border=\"1\" class=\"dataframe\">\n",
       "  <thead>\n",
       "    <tr style=\"text-align: right;\">\n",
       "      <th></th>\n",
       "      <th>poids</th>\n",
       "    </tr>\n",
       "  </thead>\n",
       "  <tbody>\n",
       "    <tr>\n",
       "      <th>0</th>\n",
       "      <td>49</td>\n",
       "    </tr>\n",
       "    <tr>\n",
       "      <th>1</th>\n",
       "      <td>83</td>\n",
       "    </tr>\n",
       "    <tr>\n",
       "      <th>2</th>\n",
       "      <td>89</td>\n",
       "    </tr>\n",
       "    <tr>\n",
       "      <th>3</th>\n",
       "      <td>86</td>\n",
       "    </tr>\n",
       "    <tr>\n",
       "      <th>4</th>\n",
       "      <td>65</td>\n",
       "    </tr>\n",
       "  </tbody>\n",
       "</table>\n",
       "</div>"
      ],
      "text/plain": [
       "   poids\n",
       "0     49\n",
       "1     83\n",
       "2     89\n",
       "3     86\n",
       "4     65"
      ]
     },
     "execution_count": 10,
     "metadata": {},
     "output_type": "execute_result"
    }
   ],
   "source": [
    "df = pd.read_csv(\"Exercice_6.csv\")\n",
    "df.head()"
   ]
  },
  {
   "cell_type": "code",
   "execution_count": 39,
   "metadata": {},
   "outputs": [
    {
     "data": {
      "text/plain": [
       "(45.0, 95.0, 11)"
      ]
     },
     "execution_count": 39,
     "metadata": {},
     "output_type": "execute_result"
    }
   ],
   "source": [
    "min = np.floor(df.poids.min() / 5) * 5\n",
    "max = np.ceil(df.poids.max() / 5) * 5\n",
    "nb_bins = int((max - min)/5) + 1\n",
    "min, max, nb_bins"
   ]
  },
  {
   "cell_type": "code",
   "execution_count": 40,
   "metadata": {},
   "outputs": [
    {
     "data": {
      "text/plain": [
       "[45, 50, 55, 60, 65, 70, 75, 80, 85, 90, 95]"
      ]
     },
     "execution_count": 40,
     "metadata": {},
     "output_type": "execute_result"
    }
   ],
   "source": [
    "bins = [45 + x * 5 for x in range(nb_bins)]\n",
    "bins"
   ]
  },
  {
   "cell_type": "code",
   "execution_count": 71,
   "metadata": {
    "scrolled": true
   },
   "outputs": [
    {
     "data": {
      "text/plain": [
       "[45, 50)     2\n",
       "[50, 55)     4\n",
       "[55, 60)     6\n",
       "[60, 65)    12\n",
       "[65, 70)    13\n",
       "[70, 75)    12\n",
       "[75, 80)     7\n",
       "[80, 85)     7\n",
       "[85, 90)     6\n",
       "[90, 95)     1\n",
       "Name: poids, dtype: int64"
      ]
     },
     "execution_count": 71,
     "metadata": {},
     "output_type": "execute_result"
    }
   ],
   "source": [
    "discret = pd.cut(df.poids, bins,  right=False)\n",
    "s = discret.value_counts().sort_index()\n",
    "s"
   ]
  },
  {
   "cell_type": "code",
   "execution_count": 66,
   "metadata": {},
   "outputs": [
    {
     "data": {
      "image/png": "[encoded data removed]",
      "text/plain": [
       "<Figure size 432x288 with 1 Axes>"
      ]
     },
     "metadata": {},
     "output_type": "display_data"
    }
   ],
   "source": [
    "g = s.plot.bar(title=\"Histogramme du poids des étudiants d'une classe\", color=['tab:orange',]*12, width=0.8)\n",
    "g.set_xlabel(\"Poids (kg)\")\n",
    "g.set_ylabel(\"Nb d'étduiants\");"
   ]
  },
  {
   "cell_type": "code",
   "execution_count": 57,
   "metadata": {},
   "outputs": [],
   "source": [
    "table = s.to_frame(\"Effectifs\")"
   ]
  },
  {
   "cell_type": "code",
   "execution_count": 58,
   "metadata": {},
   "outputs": [],
   "source": [
    "table[\"Fréquences\"] = table.apply(lambda n: n / table[\"Effectifs\"].sum() )"
   ]
  },
  {
   "cell_type": "code",
   "execution_count": 59,
   "metadata": {},
   "outputs": [],
   "source": [
    "table[\"Effectifs cumulés croissants\"] = s.cumsum()"
   ]
  },
  {
   "cell_type": "code",
   "execution_count": 60,
   "metadata": {},
   "outputs": [],
   "source": [
    "table[\"Fréquences cumulées croissantes\"] = table[\"Effectifs cumulés croissants\"].apply(lambda n: n / table[\"Effectifs\"].sum() )"
   ]
  },
  {
   "cell_type": "code",
   "execution_count": 61,
   "metadata": {},
   "outputs": [],
   "source": [
    "table[\"Effectifs cumulés décroissants\"] = table[\"Effectifs\"].loc[::-1].cumsum()"
   ]
  },
  {
   "cell_type": "code",
   "execution_count": 62,
   "metadata": {},
   "outputs": [],
   "source": [
    "table[\"Fréquences cumulées décroissantes\"] = table[\"Effectifs cumulés décroissants\"].apply(lambda n: n / table[\"Effectifs\"].sum() )"
   ]
  },
  {
   "cell_type": "code",
   "execution_count": 63,
   "metadata": {},
   "outputs": [
    {
     "data": {
      "text/html": [
       "<div>\n",
       "<style scoped>\n",
       "    .dataframe tbody tr th:only-of-type {\n",
       "        vertical-align: middle;\n",
       "    }\n",
       "\n",
       "    .dataframe tbody tr th {\n",
       "        vertical-align: top;\n",
       "    }\n",
       "\n",
       "    .dataframe thead th {\n",
       "        text-align: right;\n",
       "    }\n",
       "</style>\n",
       "<table border=\"1\" class=\"dataframe\">\n",
       "  <thead>\n",
       "    <tr style=\"text-align: right;\">\n",
       "      <th></th>\n",
       "      <th>Effectifs</th>\n",
       "      <th>Fréquences</th>\n",
       "      <th>Effectifs cumulés croissants</th>\n",
       "      <th>Fréquences cumulées croissantes</th>\n",
       "      <th>Effectifs cumulés décroissants</th>\n",
       "      <th>Fréquences cumulées décroissantes</th>\n",
       "    </tr>\n",
       "  </thead>\n",
       "  <tbody>\n",
       "    <tr>\n",
       "      <th>[45, 50)</th>\n",
       "      <td>2</td>\n",
       "      <td>0.028571</td>\n",
       "      <td>2</td>\n",
       "      <td>0.028571</td>\n",
       "      <td>70</td>\n",
       "      <td>1.000000</td>\n",
       "    </tr>\n",
       "    <tr>\n",
       "      <th>[50, 55)</th>\n",
       "      <td>4</td>\n",
       "      <td>0.057143</td>\n",
       "      <td>6</td>\n",
       "      <td>0.085714</td>\n",
       "      <td>68</td>\n",
       "      <td>0.971429</td>\n",
       "    </tr>\n",
       "    <tr>\n",
       "      <th>[55, 60)</th>\n",
       "      <td>6</td>\n",
       "      <td>0.085714</td>\n",
       "      <td>12</td>\n",
       "      <td>0.171429</td>\n",
       "      <td>64</td>\n",
       "      <td>0.914286</td>\n",
       "    </tr>\n",
       "    <tr>\n",
       "      <th>[60, 65)</th>\n",
       "      <td>12</td>\n",
       "      <td>0.171429</td>\n",
       "      <td>24</td>\n",
       "      <td>0.342857</td>\n",
       "      <td>58</td>\n",
       "      <td>0.828571</td>\n",
       "    </tr>\n",
       "    <tr>\n",
       "      <th>[65, 70)</th>\n",
       "      <td>13</td>\n",
       "      <td>0.185714</td>\n",
       "      <td>37</td>\n",
       "      <td>0.528571</td>\n",
       "      <td>46</td>\n",
       "      <td>0.657143</td>\n",
       "    </tr>\n",
       "    <tr>\n",
       "      <th>[70, 75)</th>\n",
       "      <td>12</td>\n",
       "      <td>0.171429</td>\n",
       "      <td>49</td>\n",
       "      <td>0.700000</td>\n",
       "      <td>33</td>\n",
       "      <td>0.471429</td>\n",
       "    </tr>\n",
       "    <tr>\n",
       "      <th>[75, 80)</th>\n",
       "      <td>7</td>\n",
       "      <td>0.100000</td>\n",
       "      <td>56</td>\n",
       "      <td>0.800000</td>\n",
       "      <td>21</td>\n",
       "      <td>0.300000</td>\n",
       "    </tr>\n",
       "    <tr>\n",
       "      <th>[80, 85)</th>\n",
       "      <td>7</td>\n",
       "      <td>0.100000</td>\n",
       "      <td>63</td>\n",
       "      <td>0.900000</td>\n",
       "      <td>14</td>\n",
       "      <td>0.200000</td>\n",
       "    </tr>\n",
       "    <tr>\n",
       "      <th>[85, 90)</th>\n",
       "      <td>6</td>\n",
       "      <td>0.085714</td>\n",
       "      <td>69</td>\n",
       "      <td>0.985714</td>\n",
       "      <td>7</td>\n",
       "      <td>0.100000</td>\n",
       "    </tr>\n",
       "    <tr>\n",
       "      <th>[90, 95)</th>\n",
       "      <td>1</td>\n",
       "      <td>0.014286</td>\n",
       "      <td>70</td>\n",
       "      <td>1.000000</td>\n",
       "      <td>1</td>\n",
       "      <td>0.014286</td>\n",
       "    </tr>\n",
       "  </tbody>\n",
       "</table>\n",
       "</div>"
      ],
      "text/plain": [
       "          Effectifs  Fréquences  Effectifs cumulés croissants  \\\n",
       "[45, 50)          2    0.028571                             2   \n",
       "[50, 55)          4    0.057143                             6   \n",
       "[55, 60)          6    0.085714                            12   \n",
       "[60, 65)         12    0.171429                            24   \n",
       "[65, 70)         13    0.185714                            37   \n",
       "[70, 75)         12    0.171429                            49   \n",
       "[75, 80)          7    0.100000                            56   \n",
       "[80, 85)          7    0.100000                            63   \n",
       "[85, 90)          6    0.085714                            69   \n",
       "[90, 95)          1    0.014286                            70   \n",
       "\n",
       "          Fréquences cumulées croissantes  Effectifs cumulés décroissants  \\\n",
       "[45, 50)                         0.028571                              70   \n",
       "[50, 55)                         0.085714                              68   \n",
       "[55, 60)                         0.171429                              64   \n",
       "[60, 65)                         0.342857                              58   \n",
       "[65, 70)                         0.528571                              46   \n",
       "[70, 75)                         0.700000                              33   \n",
       "[75, 80)                         0.800000                              21   \n",
       "[80, 85)                         0.900000                              14   \n",
       "[85, 90)                         0.985714                               7   \n",
       "[90, 95)                         1.000000                               1   \n",
       "\n",
       "          Fréquences cumulées décroissantes  \n",
       "[45, 50)                           1.000000  \n",
       "[50, 55)                           0.971429  \n",
       "[55, 60)                           0.914286  \n",
       "[60, 65)                           0.828571  \n",
       "[65, 70)                           0.657143  \n",
       "[70, 75)                           0.471429  \n",
       "[75, 80)                           0.300000  \n",
       "[80, 85)                           0.200000  \n",
       "[85, 90)                           0.100000  \n",
       "[90, 95)                           0.014286  "
      ]
     },
     "execution_count": 63,
     "metadata": {},
     "output_type": "execute_result"
    }
   ],
   "source": [
    "table"
   ]
  },
  {
   "cell_type": "code",
   "execution_count": null,
   "metadata": {},
   "outputs": [],
   "source": []
  }
 ],
 "metadata": {
  "kernelspec": {
   "display_name": "Python 3",
   "language": "python",
   "name": "python3"
  },
  "language_info": {
   "codemirror_mode": {
    "name": "ipython",
    "version": 3
   },
   "file_extension": ".py",
   "mimetype": "text/x-python",
   "name": "python",
   "nbconvert_exporter": "python",
   "pygments_lexer": "ipython3",
   "version": "3.6.5"
  }
 },
 "nbformat": 4,
 "nbformat_minor": 2
}
