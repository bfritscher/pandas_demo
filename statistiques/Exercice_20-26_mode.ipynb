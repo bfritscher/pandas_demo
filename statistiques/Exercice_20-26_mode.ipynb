{
 "cells": [
  {
   "cell_type": "code",
   "execution_count": 9,
   "metadata": {},
   "outputs": [],
   "source": [
    "import pandas as pd\n",
    "from io import StringIO"
   ]
  },
  {
   "cell_type": "markdown",
   "metadata": {},
   "source": [
    "# Exercice 20"
   ]
  },
  {
   "cell_type": "code",
   "execution_count": 3,
   "metadata": {
    "scrolled": true
   },
   "outputs": [
    {
     "data": {
      "text/plain": [
       "0    7\n",
       "dtype: int64"
      ]
     },
     "execution_count": 3,
     "metadata": {},
     "output_type": "execute_result"
    }
   ],
   "source": [
    "e20a = pd.Series([7, 8, 9, 3, 3, 7, 6, 7, 8, 7, 3, 9, 6, 7])\n",
    "e20a.mode()"
   ]
  },
  {
   "cell_type": "code",
   "execution_count": 4,
   "metadata": {},
   "outputs": [
    {
     "data": {
      "text/plain": [
       "0    4\n",
       "1    8\n",
       "dtype: int64"
      ]
     },
     "execution_count": 4,
     "metadata": {},
     "output_type": "execute_result"
    }
   ],
   "source": [
    "e20b = pd.Series([4, 4, 7, 6, 8, 12, 6, 4 , 8, 7, 8, 13, 4, 8, 6, 5])\n",
    "e20b.mode()"
   ]
  },
  {
   "cell_type": "code",
   "execution_count": 8,
   "metadata": {},
   "outputs": [
    {
     "data": {
      "text/plain": [
       "8     4\n",
       "4     4\n",
       "6     3\n",
       "7     2\n",
       "13    1\n",
       "12    1\n",
       "5     1\n",
       "dtype: int64"
      ]
     },
     "execution_count": 8,
     "metadata": {},
     "output_type": "execute_result"
    }
   ],
   "source": [
    "e20b.value_counts()"
   ]
  },
  {
   "cell_type": "markdown",
   "metadata": {},
   "source": [
    "# Exercice 21"
   ]
  },
  {
   "cell_type": "code",
   "execution_count": 23,
   "metadata": {},
   "outputs": [
    {
     "data": {
      "text/plain": [
       "<matplotlib.axes._subplots.AxesSubplot at 0x207222a4a58>"
      ]
     },
     "execution_count": 23,
     "metadata": {},
     "output_type": "execute_result"
    },
    {
     "data": {
      "image/png": "[encoded data removed]",
      "text/plain": [
       "<Figure size 432x288 with 1 Axes>"
      ]
     },
     "metadata": {},
     "output_type": "display_data"
    }
   ],
   "source": [
    "e21 = pd.read_table(StringIO(\"\"\"Nombre d'accidents\tNombre d'assurés\n",
    "0\t30\n",
    "1\t100\n",
    "2\t180\n",
    "3\t145\n",
    "4\t105\n",
    "5\t84\n",
    "6\t25\n",
    "7\t3\n",
    "\"\"\"))\n",
    "e21.plot.bar(x = \"Nombre d'accidents\")"
   ]
  },
  {
   "cell_type": "code",
   "execution_count": 28,
   "metadata": {},
   "outputs": [
    {
     "data": {
      "text/plain": [
       "180"
      ]
     },
     "execution_count": 28,
     "metadata": {},
     "output_type": "execute_result"
    }
   ],
   "source": [
    "e21[\"Nombre d'assurés\"].max()"
   ]
  },
  {
   "cell_type": "code",
   "execution_count": 29,
   "metadata": {},
   "outputs": [
    {
     "data": {
      "text/plain": [
       "2"
      ]
     },
     "execution_count": 29,
     "metadata": {},
     "output_type": "execute_result"
    }
   ],
   "source": [
    "e21[\"Nombre d'assurés\"].idxmax()"
   ]
  },
  {
   "cell_type": "markdown",
   "metadata": {},
   "source": [
    "# Exercice 23 & 25"
   ]
  },
  {
   "cell_type": "code",
   "execution_count": 99,
   "metadata": {},
   "outputs": [],
   "source": [
    "e23a = pd.read_csv(StringIO('\"poids en kg\",\"nb étudiants\"\\n\"[45, 50)\",2\\n\"[50, 55)\",4\\n\"[55, 60)\",6\\n\"[60, 65)\",12\\n\"[65, 70)\",13\\n\"[70, 75)\",12\\n\"[75, 80)\",7\\n\"[80, 85)\",7\\n\"[85, 90)\",6\\n\"[90, 95)\",1\\n'))\n",
    "(classes, nb) = e23a.columns\n",
    "e23a[\"nb\"] = e23a[nb]"
   ]
  },
  {
   "cell_type": "code",
   "execution_count": 88,
   "metadata": {
    "scrolled": true
   },
   "outputs": [
    {
     "data": {
      "text/plain": [
       "<matplotlib.axes._subplots.AxesSubplot at 0x207247c7198>"
      ]
     },
     "execution_count": 88,
     "metadata": {},
     "output_type": "execute_result"
    },
    {
     "data": {
      "image/png": "[encoded data removed]",
      "text/plain": [
       "<Figure size 432x288 with 1 Axes>"
      ]
     },
     "metadata": {},
     "output_type": "display_data"
    }
   ],
   "source": [
    "e23a.plot.bar(x=classes)\n"
   ]
  },
  {
   "cell_type": "code",
   "execution_count": 100,
   "metadata": {},
   "outputs": [
    {
     "data": {
      "text/plain": [
       "13"
      ]
     },
     "execution_count": 100,
     "metadata": {},
     "output_type": "execute_result"
    }
   ],
   "source": [
    "h = e23a.nb.max()\n",
    "h"
   ]
  },
  {
   "cell_type": "code",
   "execution_count": 101,
   "metadata": {},
   "outputs": [
    {
     "data": {
      "text/plain": [
       "'[65, 70)'"
      ]
     },
     "execution_count": 101,
     "metadata": {},
     "output_type": "execute_result"
    }
   ],
   "source": [
    "e23a[classes][e23a.nb.idxmax()]"
   ]
  },
  {
   "cell_type": "code",
   "execution_count": 103,
   "metadata": {},
   "outputs": [
    {
     "data": {
      "text/plain": [
       "(13, 65, 70, 12, 12)"
      ]
     },
     "execution_count": 103,
     "metadata": {},
     "output_type": "execute_result"
    }
   ],
   "source": [
    "x1 = 65 # début de la classe modal\n",
    "x2 = 70 # fin de la classe modal\n",
    "h1 = e23a.nb[e23a.nb.idxmax() - 1] # hauteur de la classe précédent la classe modal\n",
    "h2 = e23a.nb[e23a.nb.idxmax() + 1] # hauteur de la classe suivant la classe modal\n",
    "h, x1, x2, h1, h2"
   ]
  },
  {
   "cell_type": "code",
   "execution_count": 106,
   "metadata": {},
   "outputs": [
    {
     "data": {
      "text/plain": [
       "(1, 1, 67.5)"
      ]
     },
     "execution_count": 106,
     "metadata": {},
     "output_type": "execute_result"
    }
   ],
   "source": [
    "k1 = (h - h1) # Différence entre les hauteures à gauche\n",
    "k2 = (h - h2) # Différence entre les hauteures à droite\n",
    "Mo = ((k2 * x1) + (k1 * x2))/(k1 + k2) # Mode comme moyenne pondérée de x1 et x2\n",
    "k1, k2, Mo"
   ]
  },
  {
   "cell_type": "code",
   "execution_count": 107,
   "metadata": {},
   "outputs": [
    {
     "data": {
      "text/plain": [
       "(67.5, 67.5)"
      ]
     },
     "execution_count": 107,
     "metadata": {},
     "output_type": "execute_result"
    }
   ],
   "source": [
    "# formule alternative qui montre le déplacement vers x1 si k1 < k2\n",
    "Mo2 = x1 + k1 / (k1 + k2) * (x2 - x1)\n",
    "Mo, Mo2"
   ]
  },
  {
   "cell_type": "code",
   "execution_count": 169,
   "metadata": {},
   "outputs": [],
   "source": [
    "e23b = pd.read_csv(StringIO('\"Diamètre (mm)\",\"nb\"\\n\"[19.7, 19.8)\",2\\n\"[19.8, 19.85)\",5\\n\"[19.85, 19.9)\",7\\n\"[19.9, 19.95)\",11\\n\"[19.95, 20.0)\",15\\n\"[20.0, 20.05)\",14\\n\"[20.05, 20.1)\",12\\n\"[20.1, 20.15)\",8\\n\"[20.15, 20.2)\",4\\n\"[20.2, 20.3)\",2\\n'))\n",
    "(classes, nb) = e23b.columns"
   ]
  },
  {
   "cell_type": "code",
   "execution_count": 171,
   "metadata": {
    "scrolled": true
   },
   "outputs": [
    {
     "data": {
      "text/plain": [
       "<matplotlib.axes._subplots.AxesSubplot at 0x20724217f60>"
      ]
     },
     "execution_count": 171,
     "metadata": {},
     "output_type": "execute_result"
    },
    {
     "data": {
      "image/png": "[encoded data removed]",
      "text/plain": [
       "<Figure size 432x288 with 1 Axes>"
      ]
     },
     "metadata": {},
     "output_type": "display_data"
    }
   ],
   "source": [
    "e23b.plot.bar(x=classes)\n"
   ]
  },
  {
   "cell_type": "code",
   "execution_count": 173,
   "metadata": {},
   "outputs": [
    {
     "data": {
      "text/plain": [
       "15"
      ]
     },
     "execution_count": 173,
     "metadata": {},
     "output_type": "execute_result"
    }
   ],
   "source": [
    "h = e23b.nb.max()\n",
    "h"
   ]
  },
  {
   "cell_type": "code",
   "execution_count": 174,
   "metadata": {},
   "outputs": [
    {
     "data": {
      "text/plain": [
       "'[19.95, 20.0)'"
      ]
     },
     "execution_count": 174,
     "metadata": {},
     "output_type": "execute_result"
    }
   ],
   "source": [
    "e23b[classes][e23b.nb.idxmax()]"
   ]
  },
  {
   "cell_type": "code",
   "execution_count": 176,
   "metadata": {},
   "outputs": [
    {
     "data": {
      "text/plain": [
       "(15, 19.95, 20.0, 11, 14)"
      ]
     },
     "execution_count": 176,
     "metadata": {},
     "output_type": "execute_result"
    }
   ],
   "source": [
    "x1 = 19.95 # début de la classe modal\n",
    "x2 = 20.0 # fin de la classe modal\n",
    "h1 = e23b.nb[e23b.nb.idxmax() - 1] # hauteur de la classe précédent la classe modal\n",
    "h2 = e23b.nb[e23b.nb.idxmax() + 1] # hauteur de la classe suivant la classe modal\n",
    "h, x1, x2, h1, h2"
   ]
  },
  {
   "cell_type": "code",
   "execution_count": 177,
   "metadata": {},
   "outputs": [
    {
     "data": {
      "text/plain": [
       "(4, 1, 19.990000000000002)"
      ]
     },
     "execution_count": 177,
     "metadata": {},
     "output_type": "execute_result"
    }
   ],
   "source": [
    "k1 = (h - h1) # Différence entre les hauteures à gauche\n",
    "k2 = (h - h2) # Différence entre les hauteures à droite\n",
    "Mo = ((k2 * x1) + (k1 * x2))/(k1 + k2) # Mode comme moyenne pondérée de x1 et x2\n",
    "k1, k2, Mo"
   ]
  },
  {
   "cell_type": "code",
   "execution_count": 178,
   "metadata": {},
   "outputs": [
    {
     "data": {
      "text/plain": [
       "(19.990000000000002, 19.99)"
      ]
     },
     "execution_count": 178,
     "metadata": {},
     "output_type": "execute_result"
    }
   ],
   "source": [
    "# formule alternative qui montre le déplacement vers x1 si k1 < k2\n",
    "Mo2 = x1 + k1 / (k1 + k2) * (x2 - x1)\n",
    "Mo, Mo2"
   ]
  },
  {
   "cell_type": "markdown",
   "metadata": {},
   "source": [
    "# Exercice 24"
   ]
  },
  {
   "cell_type": "code",
   "execution_count": 114,
   "metadata": {},
   "outputs": [],
   "source": [
    "df = pd.read_csv(StringIO(\"\"\"\"Classes (diamètres en mm)\",Effectifs\n",
    "\"20-25\",9\n",
    "\"25-30\",27\n",
    "\"30-35\",36\n",
    "\"35-40\",45\n",
    "\"40-45\",18\n",
    "\"45-50\",9\n",
    "\"50-55\",3\n",
    "\"55-60\",3\n",
    "\"\"\"))\n",
    "(classes, d) = df.columns"
   ]
  },
  {
   "cell_type": "code",
   "execution_count": 115,
   "metadata": {},
   "outputs": [],
   "source": [
    "df[\"d\"] = df[d]"
   ]
  },
  {
   "cell_type": "code",
   "execution_count": 116,
   "metadata": {},
   "outputs": [
    {
     "data": {
      "text/plain": [
       "<matplotlib.axes._subplots.AxesSubplot at 0x207247efc50>"
      ]
     },
     "execution_count": 116,
     "metadata": {},
     "output_type": "execute_result"
    },
    {
     "data": {
      "image/png": "[encoded data removed]",
      "text/plain": [
       "<Figure size 432x288 with 1 Axes>"
      ]
     },
     "metadata": {},
     "output_type": "display_data"
    }
   ],
   "source": [
    "df.plot(kind = \"bar\", x = classes, y = \"d\",  color=['tab:orange',]*12)"
   ]
  },
  {
   "cell_type": "code",
   "execution_count": 118,
   "metadata": {},
   "outputs": [
    {
     "data": {
      "text/plain": [
       "(45, 35, 40, 36, 18)"
      ]
     },
     "execution_count": 118,
     "metadata": {},
     "output_type": "execute_result"
    }
   ],
   "source": [
    "h = df.d.max() # Hauteur de la classe modal\n",
    "x1 = 35 # début de la classe modal\n",
    "x2 = 40 # fin de la classe modal\n",
    "h1 = df.d[df.d.idxmax() - 1] # hauteur de la classe précédent la classe modal\n",
    "h2 = df.d[df.d.idxmax() + 1] # hauteur de la classe suivant la classe modal\n",
    "h, x1, x2, h1, h2"
   ]
  },
  {
   "cell_type": "code",
   "execution_count": 119,
   "metadata": {},
   "outputs": [
    {
     "data": {
      "text/plain": [
       "(9, 27, 36.25)"
      ]
     },
     "execution_count": 119,
     "metadata": {},
     "output_type": "execute_result"
    }
   ],
   "source": [
    "k1 = (h - h1) # Différence entre les hauteures à gauche\n",
    "k2 = (h - h2) # Différence entre les hauteures à droite\n",
    "Mo = ((k2 * x1) + (k1 * x2))/(k1 + k2) # Mode comme moyenne pondérée de x1 et x2\n",
    "k1, k2, Mo"
   ]
  },
  {
   "cell_type": "code",
   "execution_count": 120,
   "metadata": {},
   "outputs": [
    {
     "data": {
      "text/plain": [
       "(36.25, 36.25)"
      ]
     },
     "execution_count": 120,
     "metadata": {},
     "output_type": "execute_result"
    }
   ],
   "source": [
    "# formule alternative qui montre le déplacement vers x1 si k1 < k2\n",
    "Mo2 = x1 + k1 / (k1 + k2) * (x2 - x1)\n",
    "Mo, Mo2"
   ]
  },
  {
   "cell_type": "markdown",
   "metadata": {},
   "source": [
    "# Exercice 26"
   ]
  },
  {
   "cell_type": "code",
   "execution_count": 164,
   "metadata": {},
   "outputs": [],
   "source": [
    "df = pd.read_csv(StringIO(\"\"\"\"Classes (diamètres en mm)\",Effectifs\n",
    "\"30,00-40,00\",12\n",
    "\"40,00-42,50\",13\n",
    "\"42,50-45,00\",20\n",
    "\"45,00-50,00\",30\n",
    "\"50,00-52,50\",16\n",
    "\"52,50-55,00\",8\n",
    "\"\"\"))\n",
    "(classes, n) = df.columns"
   ]
  },
  {
   "cell_type": "code",
   "execution_count": 165,
   "metadata": {},
   "outputs": [],
   "source": [
    "df[\"x\"] = (30.0, 40.0, 42.5, 45.0, 50.0, 52.5)\n",
    "df[\"a\"] = (10.0,  2.5,  2.5,  5.0,  2.5, 2.5)"
   ]
  },
  {
   "cell_type": "code",
   "execution_count": 166,
   "metadata": {},
   "outputs": [
    {
     "data": {
      "text/html": [
       "<div>\n",
       "<style scoped>\n",
       "    .dataframe tbody tr th:only-of-type {\n",
       "        vertical-align: middle;\n",
       "    }\n",
       "\n",
       "    .dataframe tbody tr th {\n",
       "        vertical-align: top;\n",
       "    }\n",
       "\n",
       "    .dataframe thead th {\n",
       "        text-align: right;\n",
       "    }\n",
       "</style>\n",
       "<table border=\"1\" class=\"dataframe\">\n",
       "  <thead>\n",
       "    <tr style=\"text-align: right;\">\n",
       "      <th></th>\n",
       "      <th>Classes (diamètres en mm)</th>\n",
       "      <th>Effectifs</th>\n",
       "      <th>x</th>\n",
       "      <th>a</th>\n",
       "      <th>d</th>\n",
       "      <th>Ajuste</th>\n",
       "    </tr>\n",
       "  </thead>\n",
       "  <tbody>\n",
       "    <tr>\n",
       "      <th>0</th>\n",
       "      <td>30,00-40,00</td>\n",
       "      <td>12</td>\n",
       "      <td>30.0</td>\n",
       "      <td>10.0</td>\n",
       "      <td>1.2</td>\n",
       "      <td>3.0</td>\n",
       "    </tr>\n",
       "    <tr>\n",
       "      <th>1</th>\n",
       "      <td>40,00-42,50</td>\n",
       "      <td>13</td>\n",
       "      <td>40.0</td>\n",
       "      <td>2.5</td>\n",
       "      <td>5.2</td>\n",
       "      <td>13.0</td>\n",
       "    </tr>\n",
       "    <tr>\n",
       "      <th>2</th>\n",
       "      <td>42,50-45,00</td>\n",
       "      <td>20</td>\n",
       "      <td>42.5</td>\n",
       "      <td>2.5</td>\n",
       "      <td>8.0</td>\n",
       "      <td>20.0</td>\n",
       "    </tr>\n",
       "    <tr>\n",
       "      <th>3</th>\n",
       "      <td>45,00-50,00</td>\n",
       "      <td>30</td>\n",
       "      <td>45.0</td>\n",
       "      <td>5.0</td>\n",
       "      <td>6.0</td>\n",
       "      <td>15.0</td>\n",
       "    </tr>\n",
       "    <tr>\n",
       "      <th>4</th>\n",
       "      <td>50,00-52,50</td>\n",
       "      <td>16</td>\n",
       "      <td>50.0</td>\n",
       "      <td>2.5</td>\n",
       "      <td>6.4</td>\n",
       "      <td>16.0</td>\n",
       "    </tr>\n",
       "    <tr>\n",
       "      <th>5</th>\n",
       "      <td>52,50-55,00</td>\n",
       "      <td>8</td>\n",
       "      <td>52.5</td>\n",
       "      <td>2.5</td>\n",
       "      <td>3.2</td>\n",
       "      <td>8.0</td>\n",
       "    </tr>\n",
       "  </tbody>\n",
       "</table>\n",
       "</div>"
      ],
      "text/plain": [
       "  Classes (diamètres en mm)  Effectifs     x     a    d  Ajuste\n",
       "0               30,00-40,00         12  30.0  10.0  1.2     3.0\n",
       "1               40,00-42,50         13  40.0   2.5  5.2    13.0\n",
       "2               42,50-45,00         20  42.5   2.5  8.0    20.0\n",
       "3               45,00-50,00         30  45.0   5.0  6.0    15.0\n",
       "4               50,00-52,50         16  50.0   2.5  6.4    16.0\n",
       "5               52,50-55,00          8  52.5   2.5  3.2     8.0"
      ]
     },
     "execution_count": 166,
     "metadata": {},
     "output_type": "execute_result"
    }
   ],
   "source": [
    "df[\"d\"] = df.Effectifs / df.a # calcule de la densité\n",
    "df[\"Ajuste\"] = df.d * 2.5\n",
    "df"
   ]
  },
  {
   "cell_type": "code",
   "execution_count": 159,
   "metadata": {},
   "outputs": [
    {
     "data": {
      "text/plain": [
       "<matplotlib.axes._subplots.AxesSubplot at 0x207246c6c18>"
      ]
     },
     "execution_count": 159,
     "metadata": {},
     "output_type": "execute_result"
    },
    {
     "data": {
      "image/png": "[encoded data removed]",
      "text/plain": [
       "<Figure size 432x288 with 1 Axes>"
      ]
     },
     "metadata": {},
     "output_type": "display_data"
    }
   ],
   "source": [
    "df[[\"Effectifs\", \"Ajuste\", classes]].plot.bar(x = classes)\n"
   ]
  },
  {
   "cell_type": "code",
   "execution_count": 160,
   "metadata": {
    "scrolled": true
   },
   "outputs": [
    {
     "data": {
      "text/plain": [
       "(8.0, 42.5, 45, 5.2, 6.0)"
      ]
     },
     "execution_count": 160,
     "metadata": {},
     "output_type": "execute_result"
    }
   ],
   "source": [
    "h = df.d.max() # Hauteur de la classe modal\n",
    "x1 = 42.5 # début de la classe modal\n",
    "x2 = 45 # fin de la classe modal\n",
    "h1 = df.d[df.d.idxmax() - 1] # hauteur de la classe précédent la classe modal\n",
    "h2 = df.d[df.d.idxmax() + 1] # hauteur de la classe suivant la classe modal\n",
    "h, x1, x2, h1, h2"
   ]
  },
  {
   "cell_type": "code",
   "execution_count": 161,
   "metadata": {},
   "outputs": [
    {
     "data": {
      "text/plain": [
       "(2.8, 2.0, 43.958333333333336)"
      ]
     },
     "execution_count": 161,
     "metadata": {},
     "output_type": "execute_result"
    }
   ],
   "source": [
    "k1 = (h - h1) # Différence entre les hauteures à gauche\n",
    "k2 = (h - h2) # Différence entre les hauteures à droite\n",
    "Mo = ((k2 * x1) + (k1 * x2))/(k1 + k2) # Mode comme moyenne pondérée de x1 et x2\n",
    "k1, k2, Mo"
   ]
  },
  {
   "cell_type": "code",
   "execution_count": 162,
   "metadata": {},
   "outputs": [
    {
     "data": {
      "text/plain": [
       "(43.958333333333336, 43.958333333333336)"
      ]
     },
     "execution_count": 162,
     "metadata": {},
     "output_type": "execute_result"
    }
   ],
   "source": [
    "# formule alternative qui montre le déplacement vers x1 si k1 < k2\n",
    "Mo2 = x1 + k1 / (k1 + k2) * (x2 - x1)\n",
    "Mo, Mo2"
   ]
  }
 ],
 "metadata": {
  "kernelspec": {
   "display_name": "Python 3",
   "language": "python",
   "name": "python3"
  },
  "language_info": {
   "codemirror_mode": {
    "name": "ipython",
    "version": 3
   },
   "file_extension": ".py",
   "mimetype": "text/x-python",
   "name": "python",
   "nbconvert_exporter": "python",
   "pygments_lexer": "ipython3",
   "version": "3.6.5"
  }
 },
 "nbformat": 4,
 "nbformat_minor": 2
}
