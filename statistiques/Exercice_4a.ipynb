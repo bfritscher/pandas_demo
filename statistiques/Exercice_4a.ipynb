{
 "cells": [
  {
   "cell_type": "code",
   "execution_count": 2,
   "metadata": {},
   "outputs": [],
   "source": [
    "import pandas as pd"
   ]
  },
  {
   "cell_type": "code",
   "execution_count": 7,
   "metadata": {},
   "outputs": [
    {
     "data": {
      "text/html": [
       "<div>\n",
       "<style scoped>\n",
       "    .dataframe tbody tr th:only-of-type {\n",
       "        vertical-align: middle;\n",
       "    }\n",
       "\n",
       "    .dataframe tbody tr th {\n",
       "        vertical-align: top;\n",
       "    }\n",
       "\n",
       "    .dataframe thead th {\n",
       "        text-align: right;\n",
       "    }\n",
       "</style>\n",
       "<table border=\"1\" class=\"dataframe\">\n",
       "  <thead>\n",
       "    <tr style=\"text-align: right;\">\n",
       "      <th></th>\n",
       "      <th>obs</th>\n",
       "    </tr>\n",
       "  </thead>\n",
       "  <tbody>\n",
       "    <tr>\n",
       "      <th>0</th>\n",
       "      <td>2.4</td>\n",
       "    </tr>\n",
       "    <tr>\n",
       "      <th>1</th>\n",
       "      <td>6.3</td>\n",
       "    </tr>\n",
       "    <tr>\n",
       "      <th>2</th>\n",
       "      <td>7.2</td>\n",
       "    </tr>\n",
       "    <tr>\n",
       "      <th>3</th>\n",
       "      <td>9.7</td>\n",
       "    </tr>\n",
       "    <tr>\n",
       "      <th>4</th>\n",
       "      <td>0.8</td>\n",
       "    </tr>\n",
       "  </tbody>\n",
       "</table>\n",
       "</div>"
      ],
      "text/plain": [
       "   obs\n",
       "0  2.4\n",
       "1  6.3\n",
       "2  7.2\n",
       "3  9.7\n",
       "4  0.8"
      ]
     },
     "execution_count": 7,
     "metadata": {},
     "output_type": "execute_result"
    }
   ],
   "source": [
    "df = pd.read_csv(\"https://raw.githubusercontent.com/bfritscher/pandas_demo/master/statistiques/Exercice_4a.csv\", index_col=False)\n",
    "df.head(5)"
   ]
  },
  {
   "cell_type": "code",
   "execution_count": 43,
   "metadata": {
    "scrolled": true
   },
   "outputs": [
    {
     "data": {
      "text/plain": [
       "(0, 2]      12\n",
       "(2, 4]      26\n",
       "(4, 6]      11\n",
       "(6, 8]      10\n",
       "(8, 10]     17\n",
       "(10, 12]     9\n",
       "(12, 14]     5\n",
       "Name: obs, dtype: int64"
      ]
     },
     "execution_count": 43,
     "metadata": {},
     "output_type": "execute_result"
    }
   ],
   "source": [
    "bins = [0,2,4,6,8,10,12,14]\n",
    "discret = pd.cut(df[\"obs\"], bins)\n",
    "discret.value_counts().sort_index()"
   ]
  },
  {
   "cell_type": "code",
   "execution_count": 50,
   "metadata": {},
   "outputs": [
    {
     "data": {
      "text/plain": [
       "obs\n",
       "[0, 2)      12\n",
       "[2, 4)      26\n",
       "[4, 6)      11\n",
       "[6, 8)      10\n",
       "[8, 10)     16\n",
       "[10, 12)     9\n",
       "[12, 14)     6\n",
       "dtype: int64"
      ]
     },
     "execution_count": 50,
     "metadata": {},
     "output_type": "execute_result"
    }
   ],
   "source": [
    "bins = [0,2,4,6,8,10,12,14]\n",
    "s = df.groupby(pd.cut(df[\"obs\"], bins, right=False)).size()\n",
    "s"
   ]
  },
  {
   "cell_type": "code",
   "execution_count": 52,
   "metadata": {},
   "outputs": [
    {
     "data": {
      "text/plain": [
       "Text(0,0.5,'Nb de collaborateurs')"
      ]
     },
     "execution_count": 52,
     "metadata": {},
     "output_type": "execute_result"
    },
    {
     "data": {
      "image/png": "[encoded data removed]",
      "text/plain": [
       "<Figure size 432x288 with 1 Axes>"
      ]
     },
     "metadata": {},
     "output_type": "display_data"
    }
   ],
   "source": [
    "g = s.plot(kind=\"bar\", title=\"Ocupation de l'espace disque en fonction\\ndu nombre de collaborateurs\", rot=0, color=['tab:orange',]*12, width=0.8)\n",
    "g.set_xlabel(\"Espace disque (GB)\")\n",
    "g.set_ylabel(\"Nb de collaborateurs\")"
   ]
  },
  {
   "cell_type": "code",
   "execution_count": 114,
   "metadata": {},
   "outputs": [],
   "source": [
    "table = s.to_frame(\"Effectifs\")"
   ]
  },
  {
   "cell_type": "code",
   "execution_count": 115,
   "metadata": {},
   "outputs": [],
   "source": [
    "table[\"Fréquences\"] = table.apply(lambda n: n / table[\"Effectifs\"].sum() )"
   ]
  },
  {
   "cell_type": "code",
   "execution_count": 116,
   "metadata": {},
   "outputs": [],
   "source": [
    "table[\"Effectifs cumulés croissants\"] = s.cumsum()"
   ]
  },
  {
   "cell_type": "code",
   "execution_count": 117,
   "metadata": {},
   "outputs": [],
   "source": [
    "table[\"Fréquences cumulées croissantes\"] = table[\"Effectifs cumulés croissants\"].apply(lambda n: n / table[\"Effectifs\"].sum() )"
   ]
  },
  {
   "cell_type": "code",
   "execution_count": 118,
   "metadata": {},
   "outputs": [],
   "source": [
    "table[\"Effectifs cumulés décroissants\"] = table[\"Effectifs\"].loc[::-1].cumsum()"
   ]
  },
  {
   "cell_type": "code",
   "execution_count": 119,
   "metadata": {},
   "outputs": [],
   "source": [
    "table[\"Fréquences cumulées décroissantes\"] = table[\"Effectifs cumulés décroissants\"].apply(lambda n: n / table[\"Effectifs\"].sum() )"
   ]
  },
  {
   "cell_type": "code",
   "execution_count": 120,
   "metadata": {},
   "outputs": [
    {
     "data": {
      "text/html": [
       "<div>\n",
       "<style scoped>\n",
       "    .dataframe tbody tr th:only-of-type {\n",
       "        vertical-align: middle;\n",
       "    }\n",
       "\n",
       "    .dataframe tbody tr th {\n",
       "        vertical-align: top;\n",
       "    }\n",
       "\n",
       "    .dataframe thead th {\n",
       "        text-align: right;\n",
       "    }\n",
       "</style>\n",
       "<table border=\"1\" class=\"dataframe\">\n",
       "  <thead>\n",
       "    <tr style=\"text-align: right;\">\n",
       "      <th></th>\n",
       "      <th>Effectifs</th>\n",
       "      <th>Fréquences</th>\n",
       "      <th>Effectifs cumulés croissants</th>\n",
       "      <th>Fréquences cumulées croissantes</th>\n",
       "      <th>Effectifs cumulés décroissants</th>\n",
       "      <th>Fréquences cumulées décroissantes</th>\n",
       "    </tr>\n",
       "    <tr>\n",
       "      <th>obs</th>\n",
       "      <th></th>\n",
       "      <th></th>\n",
       "      <th></th>\n",
       "      <th></th>\n",
       "      <th></th>\n",
       "      <th></th>\n",
       "    </tr>\n",
       "  </thead>\n",
       "  <tbody>\n",
       "    <tr>\n",
       "      <th>[0, 2)</th>\n",
       "      <td>12</td>\n",
       "      <td>0.133333</td>\n",
       "      <td>12</td>\n",
       "      <td>0.133333</td>\n",
       "      <td>90</td>\n",
       "      <td>1.000000</td>\n",
       "    </tr>\n",
       "    <tr>\n",
       "      <th>[2, 4)</th>\n",
       "      <td>26</td>\n",
       "      <td>0.288889</td>\n",
       "      <td>38</td>\n",
       "      <td>0.422222</td>\n",
       "      <td>78</td>\n",
       "      <td>0.866667</td>\n",
       "    </tr>\n",
       "    <tr>\n",
       "      <th>[4, 6)</th>\n",
       "      <td>11</td>\n",
       "      <td>0.122222</td>\n",
       "      <td>49</td>\n",
       "      <td>0.544444</td>\n",
       "      <td>52</td>\n",
       "      <td>0.577778</td>\n",
       "    </tr>\n",
       "    <tr>\n",
       "      <th>[6, 8)</th>\n",
       "      <td>10</td>\n",
       "      <td>0.111111</td>\n",
       "      <td>59</td>\n",
       "      <td>0.655556</td>\n",
       "      <td>41</td>\n",
       "      <td>0.455556</td>\n",
       "    </tr>\n",
       "    <tr>\n",
       "      <th>[8, 10)</th>\n",
       "      <td>16</td>\n",
       "      <td>0.177778</td>\n",
       "      <td>75</td>\n",
       "      <td>0.833333</td>\n",
       "      <td>31</td>\n",
       "      <td>0.344444</td>\n",
       "    </tr>\n",
       "    <tr>\n",
       "      <th>[10, 12)</th>\n",
       "      <td>9</td>\n",
       "      <td>0.100000</td>\n",
       "      <td>84</td>\n",
       "      <td>0.933333</td>\n",
       "      <td>15</td>\n",
       "      <td>0.166667</td>\n",
       "    </tr>\n",
       "    <tr>\n",
       "      <th>[12, 14)</th>\n",
       "      <td>6</td>\n",
       "      <td>0.066667</td>\n",
       "      <td>90</td>\n",
       "      <td>1.000000</td>\n",
       "      <td>6</td>\n",
       "      <td>0.066667</td>\n",
       "    </tr>\n",
       "  </tbody>\n",
       "</table>\n",
       "</div>"
      ],
      "text/plain": [
       "          Effectifs  Fréquences  Effectifs cumulés croissants  \\\n",
       "obs                                                             \n",
       "[0, 2)           12    0.133333                            12   \n",
       "[2, 4)           26    0.288889                            38   \n",
       "[4, 6)           11    0.122222                            49   \n",
       "[6, 8)           10    0.111111                            59   \n",
       "[8, 10)          16    0.177778                            75   \n",
       "[10, 12)          9    0.100000                            84   \n",
       "[12, 14)          6    0.066667                            90   \n",
       "\n",
       "          Fréquences cumulées croissantes  Effectifs cumulés décroissants  \\\n",
       "obs                                                                         \n",
       "[0, 2)                           0.133333                              90   \n",
       "[2, 4)                           0.422222                              78   \n",
       "[4, 6)                           0.544444                              52   \n",
       "[6, 8)                           0.655556                              41   \n",
       "[8, 10)                          0.833333                              31   \n",
       "[10, 12)                         0.933333                              15   \n",
       "[12, 14)                         1.000000                               6   \n",
       "\n",
       "          Fréquences cumulées décroissantes  \n",
       "obs                                          \n",
       "[0, 2)                             1.000000  \n",
       "[2, 4)                             0.866667  \n",
       "[4, 6)                             0.577778  \n",
       "[6, 8)                             0.455556  \n",
       "[8, 10)                            0.344444  \n",
       "[10, 12)                           0.166667  \n",
       "[12, 14)                           0.066667  "
      ]
     },
     "execution_count": 120,
     "metadata": {},
     "output_type": "execute_result"
    }
   ],
   "source": [
    "table"
   ]
  },
  {
   "cell_type": "code",
   "execution_count": null,
   "metadata": {},
   "outputs": [],
   "source": []
  }
 ],
 "metadata": {
  "kernelspec": {
   "display_name": "Python 3",
   "language": "python",
   "name": "python3"
  },
  "language_info": {
   "codemirror_mode": {
    "name": "ipython",
    "version": 3
   },
   "file_extension": ".py",
   "mimetype": "text/x-python",
   "name": "python",
   "nbconvert_exporter": "python",
   "pygments_lexer": "ipython3",
   "version": "3.6.5"
  }
 },
 "nbformat": 4,
 "nbformat_minor": 2
}
