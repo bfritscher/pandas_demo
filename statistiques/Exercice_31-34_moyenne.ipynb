{
 "cells": [
  {
   "cell_type": "code",
   "execution_count": 7,
   "metadata": {},
   "outputs": [],
   "source": [
    "import pandas as pd\n",
    "from io import StringIO"
   ]
  },
  {
   "cell_type": "markdown",
   "metadata": {},
   "source": [
    "# Exercice 31"
   ]
  },
  {
   "cell_type": "code",
   "execution_count": 8,
   "metadata": {},
   "outputs": [
    {
     "data": {
      "text/plain": [
       "(6.107142857142857, 6.107142857142857)"
      ]
     },
     "execution_count": 8,
     "metadata": {},
     "output_type": "execute_result"
    }
   ],
   "source": [
    "e31 = pd.Series([5, 7, 9, 15, 16, 17.5, 16.5, 14.5, 8, 4, 3, -2, -8, -20])\n",
    "moyenne = e31.sum() / e31.count()\n",
    "e31.mean(), moyenne"
   ]
  },
  {
   "cell_type": "markdown",
   "metadata": {},
   "source": [
    "#  Exercice 32"
   ]
  },
  {
   "cell_type": "code",
   "execution_count": 10,
   "metadata": {},
   "outputs": [],
   "source": [
    "e32 = pd.read_csv(StringIO(\"\"\"x,n\n",
    "15,50\n",
    "19,30\n",
    "21,40\n",
    "25,100\n",
    "30,120\n",
    "35,20\n",
    "40,20\n",
    "\"\"\"))\n",
    "e32[\"nx\"] = e32.n * e32.x"
   ]
  },
  {
   "cell_type": "code",
   "execution_count": 12,
   "metadata": {},
   "outputs": [
    {
     "data": {
      "text/plain": [
       "25.68421052631579"
      ]
     },
     "execution_count": 12,
     "metadata": {},
     "output_type": "execute_result"
    }
   ],
   "source": [
    "e32.nx.sum() / e32.n.sum()"
   ]
  },
  {
   "cell_type": "markdown",
   "metadata": {},
   "source": [
    "#  Exercice 33"
   ]
  },
  {
   "cell_type": "code",
   "execution_count": 23,
   "metadata": {},
   "outputs": [
    {
     "data": {
      "text/html": [
       "<div>\n",
       "<style scoped>\n",
       "    .dataframe tbody tr th:only-of-type {\n",
       "        vertical-align: middle;\n",
       "    }\n",
       "\n",
       "    .dataframe tbody tr th {\n",
       "        vertical-align: top;\n",
       "    }\n",
       "\n",
       "    .dataframe thead th {\n",
       "        text-align: right;\n",
       "    }\n",
       "</style>\n",
       "<table border=\"1\" class=\"dataframe\">\n",
       "  <thead>\n",
       "    <tr style=\"text-align: right;\">\n",
       "      <th></th>\n",
       "      <th>a</th>\n",
       "      <th>b</th>\n",
       "      <th>x</th>\n",
       "      <th>n</th>\n",
       "      <th>nx</th>\n",
       "      <th>f</th>\n",
       "      <th>fx</th>\n",
       "    </tr>\n",
       "  </thead>\n",
       "  <tbody>\n",
       "    <tr>\n",
       "      <th>0</th>\n",
       "      <td>45</td>\n",
       "      <td>55</td>\n",
       "      <td>50.0</td>\n",
       "      <td>15</td>\n",
       "      <td>750.0</td>\n",
       "      <td>0.075</td>\n",
       "      <td>3.75</td>\n",
       "    </tr>\n",
       "    <tr>\n",
       "      <th>1</th>\n",
       "      <td>55</td>\n",
       "      <td>65</td>\n",
       "      <td>60.0</td>\n",
       "      <td>35</td>\n",
       "      <td>2100.0</td>\n",
       "      <td>0.175</td>\n",
       "      <td>10.50</td>\n",
       "    </tr>\n",
       "    <tr>\n",
       "      <th>2</th>\n",
       "      <td>65</td>\n",
       "      <td>75</td>\n",
       "      <td>70.0</td>\n",
       "      <td>70</td>\n",
       "      <td>4900.0</td>\n",
       "      <td>0.350</td>\n",
       "      <td>24.50</td>\n",
       "    </tr>\n",
       "    <tr>\n",
       "      <th>3</th>\n",
       "      <td>75</td>\n",
       "      <td>85</td>\n",
       "      <td>80.0</td>\n",
       "      <td>55</td>\n",
       "      <td>4400.0</td>\n",
       "      <td>0.275</td>\n",
       "      <td>22.00</td>\n",
       "    </tr>\n",
       "    <tr>\n",
       "      <th>4</th>\n",
       "      <td>85</td>\n",
       "      <td>95</td>\n",
       "      <td>90.0</td>\n",
       "      <td>25</td>\n",
       "      <td>2250.0</td>\n",
       "      <td>0.125</td>\n",
       "      <td>11.25</td>\n",
       "    </tr>\n",
       "  </tbody>\n",
       "</table>\n",
       "</div>"
      ],
      "text/plain": [
       "    a   b     x   n      nx      f     fx\n",
       "0  45  55  50.0  15   750.0  0.075   3.75\n",
       "1  55  65  60.0  35  2100.0  0.175  10.50\n",
       "2  65  75  70.0  70  4900.0  0.350  24.50\n",
       "3  75  85  80.0  55  4400.0  0.275  22.00\n",
       "4  85  95  90.0  25  2250.0  0.125  11.25"
      ]
     },
     "execution_count": 23,
     "metadata": {},
     "output_type": "execute_result"
    }
   ],
   "source": [
    "e33 = pd.read_csv(StringIO(\"\"\"a,b,x,n,nx,f,fx\n",
    "45,55,,15,,,\n",
    "55,65,,35,,,\n",
    "65,75,,70,,,\n",
    "75,85,,55,,,\n",
    "85,95,,25,,,\n",
    "\"\"\"))\n",
    "total = e33.n.sum()\n",
    "e33.x = (e33.a + e33.b) / 2\n",
    "e33.nx = e33.x * e33.n\n",
    "e33.f = e33.n / total\n",
    "e33.fx = e33.f * e33.x\n",
    "e33"
   ]
  },
  {
   "cell_type": "code",
   "execution_count": 27,
   "metadata": {},
   "outputs": [
    {
     "data": {
      "text/plain": [
       "(72.0, 72.0)"
      ]
     },
     "execution_count": 27,
     "metadata": {},
     "output_type": "execute_result"
    }
   ],
   "source": [
    "moyenne1 = e33.nx.sum() / e33.n.sum()\n",
    "moyenne2 = e33.fx.sum()\n",
    "moyenne1, moyenne2"
   ]
  },
  {
   "cell_type": "markdown",
   "metadata": {},
   "source": [
    "# Exercice 34"
   ]
  },
  {
   "cell_type": "code",
   "execution_count": 44,
   "metadata": {},
   "outputs": [],
   "source": [
    "e34 = pd.read_csv(StringIO(\"\"\"a,b,x,n,nx,f,fx\n",
    ",20,,2500,,,\n",
    "20,30,,1701,,,\n",
    "30,40,,1422,,,\n",
    "40,50,,714,,,\n",
    "50,,,1500,,,\n",
    "\"\"\"))"
   ]
  },
  {
   "cell_type": "code",
   "execution_count": 48,
   "metadata": {},
   "outputs": [],
   "source": [
    "# a\n",
    "e34.at[0, \"a\"] = 8\n",
    "e34.at[4, \"b\"] = 80"
   ]
  },
  {
   "cell_type": "code",
   "execution_count": 49,
   "metadata": {},
   "outputs": [],
   "source": [
    "# b\n",
    "e34.at[0, \"a\"] = 12\n",
    "e34.at[4, \"b\"] = 160"
   ]
  },
  {
   "cell_type": "code",
   "execution_count": 50,
   "metadata": {},
   "outputs": [
    {
     "data": {
      "text/html": [
       "<div>\n",
       "<style scoped>\n",
       "    .dataframe tbody tr th:only-of-type {\n",
       "        vertical-align: middle;\n",
       "    }\n",
       "\n",
       "    .dataframe tbody tr th {\n",
       "        vertical-align: top;\n",
       "    }\n",
       "\n",
       "    .dataframe thead th {\n",
       "        text-align: right;\n",
       "    }\n",
       "</style>\n",
       "<table border=\"1\" class=\"dataframe\">\n",
       "  <thead>\n",
       "    <tr style=\"text-align: right;\">\n",
       "      <th></th>\n",
       "      <th>a</th>\n",
       "      <th>b</th>\n",
       "      <th>x</th>\n",
       "      <th>n</th>\n",
       "      <th>nx</th>\n",
       "      <th>f</th>\n",
       "      <th>fx</th>\n",
       "    </tr>\n",
       "  </thead>\n",
       "  <tbody>\n",
       "    <tr>\n",
       "      <th>0</th>\n",
       "      <td>12.0</td>\n",
       "      <td>20.0</td>\n",
       "      <td>16.0</td>\n",
       "      <td>2500</td>\n",
       "      <td>40000.0</td>\n",
       "      <td>0.319000</td>\n",
       "      <td>5.103994</td>\n",
       "    </tr>\n",
       "    <tr>\n",
       "      <th>1</th>\n",
       "      <td>20.0</td>\n",
       "      <td>30.0</td>\n",
       "      <td>25.0</td>\n",
       "      <td>1701</td>\n",
       "      <td>42525.0</td>\n",
       "      <td>0.217047</td>\n",
       "      <td>5.426183</td>\n",
       "    </tr>\n",
       "    <tr>\n",
       "      <th>2</th>\n",
       "      <td>30.0</td>\n",
       "      <td>40.0</td>\n",
       "      <td>35.0</td>\n",
       "      <td>1422</td>\n",
       "      <td>49770.0</td>\n",
       "      <td>0.181447</td>\n",
       "      <td>6.350644</td>\n",
       "    </tr>\n",
       "    <tr>\n",
       "      <th>3</th>\n",
       "      <td>40.0</td>\n",
       "      <td>50.0</td>\n",
       "      <td>45.0</td>\n",
       "      <td>714</td>\n",
       "      <td>32130.0</td>\n",
       "      <td>0.091106</td>\n",
       "      <td>4.099783</td>\n",
       "    </tr>\n",
       "    <tr>\n",
       "      <th>4</th>\n",
       "      <td>50.0</td>\n",
       "      <td>160.0</td>\n",
       "      <td>105.0</td>\n",
       "      <td>1500</td>\n",
       "      <td>157500.0</td>\n",
       "      <td>0.191400</td>\n",
       "      <td>20.096976</td>\n",
       "    </tr>\n",
       "  </tbody>\n",
       "</table>\n",
       "</div>"
      ],
      "text/plain": [
       "      a      b      x     n        nx         f         fx\n",
       "0  12.0   20.0   16.0  2500   40000.0  0.319000   5.103994\n",
       "1  20.0   30.0   25.0  1701   42525.0  0.217047   5.426183\n",
       "2  30.0   40.0   35.0  1422   49770.0  0.181447   6.350644\n",
       "3  40.0   50.0   45.0   714   32130.0  0.091106   4.099783\n",
       "4  50.0  160.0  105.0  1500  157500.0  0.191400  20.096976"
      ]
     },
     "execution_count": 50,
     "metadata": {},
     "output_type": "execute_result"
    }
   ],
   "source": [
    "total = e34.n.sum()\n",
    "e34.x = (e34.a + e34.b) / 2\n",
    "e34.nx = e34.x * e34.n\n",
    "e34.f = e34.n / total\n",
    "e34.fx = e34.f * e34.x\n",
    "e34"
   ]
  },
  {
   "cell_type": "code",
   "execution_count": 51,
   "metadata": {},
   "outputs": [
    {
     "data": {
      "text/plain": [
       "(41.07758070690315, 41.07758070690315)"
      ]
     },
     "execution_count": 51,
     "metadata": {},
     "output_type": "execute_result"
    }
   ],
   "source": [
    "moyenne1 = e34.nx.sum() / e34.n.sum()\n",
    "moyenne2 = e34.fx.sum()\n",
    "moyenne1, moyenne2"
   ]
  },
  {
   "cell_type": "code",
   "execution_count": null,
   "metadata": {},
   "outputs": [],
   "source": []
  }
 ],
 "metadata": {
  "kernelspec": {
   "display_name": "Python 3",
   "language": "python",
   "name": "python3"
  },
  "language_info": {
   "codemirror_mode": {
    "name": "ipython",
    "version": 3
   },
   "file_extension": ".py",
   "mimetype": "text/x-python",
   "name": "python",
   "nbconvert_exporter": "python",
   "pygments_lexer": "ipython3",
   "version": "3.6.5"
  }
 },
 "nbformat": 4,
 "nbformat_minor": 2
}
