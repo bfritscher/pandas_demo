{
 "cells": [
  {
   "cell_type": "code",
   "execution_count": 4,
   "metadata": {},
   "outputs": [],
   "source": [
    "import pandas as pd"
   ]
  },
  {
   "cell_type": "code",
   "execution_count": 5,
   "metadata": {},
   "outputs": [
    {
     "data": {
      "text/html": [
       "<div>\n",
       "<style scoped>\n",
       "    .dataframe tbody tr th:only-of-type {\n",
       "        vertical-align: middle;\n",
       "    }\n",
       "\n",
       "    .dataframe tbody tr th {\n",
       "        vertical-align: top;\n",
       "    }\n",
       "\n",
       "    .dataframe thead th {\n",
       "        text-align: right;\n",
       "    }\n",
       "</style>\n",
       "<table border=\"1\" class=\"dataframe\">\n",
       "  <thead>\n",
       "    <tr style=\"text-align: right;\">\n",
       "      <th></th>\n",
       "      <th>mesures</th>\n",
       "    </tr>\n",
       "  </thead>\n",
       "  <tbody>\n",
       "    <tr>\n",
       "      <th>0</th>\n",
       "      <td>19.87</td>\n",
       "    </tr>\n",
       "    <tr>\n",
       "      <th>1</th>\n",
       "      <td>19.95</td>\n",
       "    </tr>\n",
       "    <tr>\n",
       "      <th>2</th>\n",
       "      <td>19.84</td>\n",
       "    </tr>\n",
       "    <tr>\n",
       "      <th>3</th>\n",
       "      <td>19.99</td>\n",
       "    </tr>\n",
       "    <tr>\n",
       "      <th>4</th>\n",
       "      <td>20.02</td>\n",
       "    </tr>\n",
       "  </tbody>\n",
       "</table>\n",
       "</div>"
      ],
      "text/plain": [
       "   mesures\n",
       "0    19.87\n",
       "1    19.95\n",
       "2    19.84\n",
       "3    19.99\n",
       "4    20.02"
      ]
     },
     "execution_count": 5,
     "metadata": {},
     "output_type": "execute_result"
    }
   ],
   "source": [
    "df = pd.read_csv(\"Exercice_7.csv\")\n",
    "df.head()"
   ]
  },
  {
   "cell_type": "code",
   "execution_count": 6,
   "metadata": {},
   "outputs": [
    {
     "data": {
      "text/plain": [
       "(19.7, 20.26)"
      ]
     },
     "execution_count": 6,
     "metadata": {},
     "output_type": "execute_result"
    }
   ],
   "source": [
    "df.mesures.min(), df.mesures.max()"
   ]
  },
  {
   "cell_type": "code",
   "execution_count": 7,
   "metadata": {},
   "outputs": [],
   "source": [
    "bins = [19.70, 19.80, 19.85, 19.90, 19.95, 20.00, 20.05, 20.10, 20.15, 20.20, 20.30]"
   ]
  },
  {
   "cell_type": "code",
   "execution_count": 21,
   "metadata": {
    "scrolled": true
   },
   "outputs": [
    {
     "data": {
      "text/plain": [
       "[19.7, 19.8)      2\n",
       "[19.8, 19.85)     5\n",
       "[19.85, 19.9)     7\n",
       "[19.9, 19.95)    11\n",
       "[19.95, 20.0)    15\n",
       "[20.0, 20.05)    14\n",
       "[20.05, 20.1)    12\n",
       "[20.1, 20.15)     8\n",
       "[20.15, 20.2)     4\n",
       "[20.2, 20.3)      2\n",
       "Name: mesures, dtype: int64"
      ]
     },
     "execution_count": 21,
     "metadata": {},
     "output_type": "execute_result"
    }
   ],
   "source": [
    "discret = pd.cut(df.mesures, bins,  right=False)\n",
    "s = discret.value_counts().sort_index()\n",
    "s"
   ]
  },
  {
   "cell_type": "code",
   "execution_count": 12,
   "metadata": {},
   "outputs": [
    {
     "data": {
      "image/png": "[encoded data removed]",
      "text/plain": [
       "<Figure size 432x288 with 1 Axes>"
      ]
     },
     "metadata": {},
     "output_type": "display_data"
    }
   ],
   "source": [
    "g = s.plot.bar(title=\"Contrôle de qualité\", color=['tab:orange',]*12, width=0.8)\n",
    "g.set_xlabel(\"Diamètre (mm)\")\n",
    "g.set_ylabel(\"Nb\");"
   ]
  },
  {
   "cell_type": "code",
   "execution_count": 13,
   "metadata": {},
   "outputs": [],
   "source": [
    "table = s.to_frame(\"Effectifs\")"
   ]
  },
  {
   "cell_type": "code",
   "execution_count": 14,
   "metadata": {},
   "outputs": [],
   "source": [
    "table[\"Fréquences\"] = table.apply(lambda n: n / table[\"Effectifs\"].sum() )"
   ]
  },
  {
   "cell_type": "code",
   "execution_count": 15,
   "metadata": {},
   "outputs": [],
   "source": [
    "table[\"Effectifs cumulés croissants\"] = s.cumsum()"
   ]
  },
  {
   "cell_type": "code",
   "execution_count": 16,
   "metadata": {},
   "outputs": [],
   "source": [
    "table[\"Fréquences cumulées croissantes\"] = table[\"Effectifs cumulés croissants\"].apply(lambda n: n / table[\"Effectifs\"].sum() )"
   ]
  },
  {
   "cell_type": "code",
   "execution_count": 17,
   "metadata": {},
   "outputs": [],
   "source": [
    "table[\"Effectifs cumulés décroissants\"] = table[\"Effectifs\"].loc[::-1].cumsum()"
   ]
  },
  {
   "cell_type": "code",
   "execution_count": 18,
   "metadata": {},
   "outputs": [],
   "source": [
    "table[\"Fréquences cumulées décroissantes\"] = table[\"Effectifs cumulés décroissants\"].apply(lambda n: n / table[\"Effectifs\"].sum() )"
   ]
  },
  {
   "cell_type": "code",
   "execution_count": 19,
   "metadata": {},
   "outputs": [
    {
     "data": {
      "text/html": [
       "<div>\n",
       "<style scoped>\n",
       "    .dataframe tbody tr th:only-of-type {\n",
       "        vertical-align: middle;\n",
       "    }\n",
       "\n",
       "    .dataframe tbody tr th {\n",
       "        vertical-align: top;\n",
       "    }\n",
       "\n",
       "    .dataframe thead th {\n",
       "        text-align: right;\n",
       "    }\n",
       "</style>\n",
       "<table border=\"1\" class=\"dataframe\">\n",
       "  <thead>\n",
       "    <tr style=\"text-align: right;\">\n",
       "      <th></th>\n",
       "      <th>Effectifs</th>\n",
       "      <th>Fréquences</th>\n",
       "      <th>Effectifs cumulés croissants</th>\n",
       "      <th>Fréquences cumulées croissantes</th>\n",
       "      <th>Effectifs cumulés décroissants</th>\n",
       "      <th>Fréquences cumulées décroissantes</th>\n",
       "    </tr>\n",
       "  </thead>\n",
       "  <tbody>\n",
       "    <tr>\n",
       "      <th>[19.7, 19.8)</th>\n",
       "      <td>2</td>\n",
       "      <td>0.0250</td>\n",
       "      <td>2</td>\n",
       "      <td>0.0250</td>\n",
       "      <td>80</td>\n",
       "      <td>1.0000</td>\n",
       "    </tr>\n",
       "    <tr>\n",
       "      <th>[19.8, 19.85)</th>\n",
       "      <td>5</td>\n",
       "      <td>0.0625</td>\n",
       "      <td>7</td>\n",
       "      <td>0.0875</td>\n",
       "      <td>78</td>\n",
       "      <td>0.9750</td>\n",
       "    </tr>\n",
       "    <tr>\n",
       "      <th>[19.85, 19.9)</th>\n",
       "      <td>7</td>\n",
       "      <td>0.0875</td>\n",
       "      <td>14</td>\n",
       "      <td>0.1750</td>\n",
       "      <td>73</td>\n",
       "      <td>0.9125</td>\n",
       "    </tr>\n",
       "    <tr>\n",
       "      <th>[19.9, 19.95)</th>\n",
       "      <td>11</td>\n",
       "      <td>0.1375</td>\n",
       "      <td>25</td>\n",
       "      <td>0.3125</td>\n",
       "      <td>66</td>\n",
       "      <td>0.8250</td>\n",
       "    </tr>\n",
       "    <tr>\n",
       "      <th>[19.95, 20.0)</th>\n",
       "      <td>15</td>\n",
       "      <td>0.1875</td>\n",
       "      <td>40</td>\n",
       "      <td>0.5000</td>\n",
       "      <td>55</td>\n",
       "      <td>0.6875</td>\n",
       "    </tr>\n",
       "    <tr>\n",
       "      <th>[20.0, 20.05)</th>\n",
       "      <td>14</td>\n",
       "      <td>0.1750</td>\n",
       "      <td>54</td>\n",
       "      <td>0.6750</td>\n",
       "      <td>40</td>\n",
       "      <td>0.5000</td>\n",
       "    </tr>\n",
       "    <tr>\n",
       "      <th>[20.05, 20.1)</th>\n",
       "      <td>12</td>\n",
       "      <td>0.1500</td>\n",
       "      <td>66</td>\n",
       "      <td>0.8250</td>\n",
       "      <td>26</td>\n",
       "      <td>0.3250</td>\n",
       "    </tr>\n",
       "    <tr>\n",
       "      <th>[20.1, 20.15)</th>\n",
       "      <td>8</td>\n",
       "      <td>0.1000</td>\n",
       "      <td>74</td>\n",
       "      <td>0.9250</td>\n",
       "      <td>14</td>\n",
       "      <td>0.1750</td>\n",
       "    </tr>\n",
       "    <tr>\n",
       "      <th>[20.15, 20.2)</th>\n",
       "      <td>4</td>\n",
       "      <td>0.0500</td>\n",
       "      <td>78</td>\n",
       "      <td>0.9750</td>\n",
       "      <td>6</td>\n",
       "      <td>0.0750</td>\n",
       "    </tr>\n",
       "    <tr>\n",
       "      <th>[20.2, 20.3)</th>\n",
       "      <td>2</td>\n",
       "      <td>0.0250</td>\n",
       "      <td>80</td>\n",
       "      <td>1.0000</td>\n",
       "      <td>2</td>\n",
       "      <td>0.0250</td>\n",
       "    </tr>\n",
       "  </tbody>\n",
       "</table>\n",
       "</div>"
      ],
      "text/plain": [
       "               Effectifs  Fréquences  Effectifs cumulés croissants  \\\n",
       "[19.7, 19.8)           2      0.0250                             2   \n",
       "[19.8, 19.85)          5      0.0625                             7   \n",
       "[19.85, 19.9)          7      0.0875                            14   \n",
       "[19.9, 19.95)         11      0.1375                            25   \n",
       "[19.95, 20.0)         15      0.1875                            40   \n",
       "[20.0, 20.05)         14      0.1750                            54   \n",
       "[20.05, 20.1)         12      0.1500                            66   \n",
       "[20.1, 20.15)          8      0.1000                            74   \n",
       "[20.15, 20.2)          4      0.0500                            78   \n",
       "[20.2, 20.3)           2      0.0250                            80   \n",
       "\n",
       "               Fréquences cumulées croissantes  \\\n",
       "[19.7, 19.8)                            0.0250   \n",
       "[19.8, 19.85)                           0.0875   \n",
       "[19.85, 19.9)                           0.1750   \n",
       "[19.9, 19.95)                           0.3125   \n",
       "[19.95, 20.0)                           0.5000   \n",
       "[20.0, 20.05)                           0.6750   \n",
       "[20.05, 20.1)                           0.8250   \n",
       "[20.1, 20.15)                           0.9250   \n",
       "[20.15, 20.2)                           0.9750   \n",
       "[20.2, 20.3)                            1.0000   \n",
       "\n",
       "               Effectifs cumulés décroissants  \\\n",
       "[19.7, 19.8)                               80   \n",
       "[19.8, 19.85)                              78   \n",
       "[19.85, 19.9)                              73   \n",
       "[19.9, 19.95)                              66   \n",
       "[19.95, 20.0)                              55   \n",
       "[20.0, 20.05)                              40   \n",
       "[20.05, 20.1)                              26   \n",
       "[20.1, 20.15)                              14   \n",
       "[20.15, 20.2)                               6   \n",
       "[20.2, 20.3)                                2   \n",
       "\n",
       "               Fréquences cumulées décroissantes  \n",
       "[19.7, 19.8)                              1.0000  \n",
       "[19.8, 19.85)                             0.9750  \n",
       "[19.85, 19.9)                             0.9125  \n",
       "[19.9, 19.95)                             0.8250  \n",
       "[19.95, 20.0)                             0.6875  \n",
       "[20.0, 20.05)                             0.5000  \n",
       "[20.05, 20.1)                             0.3250  \n",
       "[20.1, 20.15)                             0.1750  \n",
       "[20.15, 20.2)                             0.0750  \n",
       "[20.2, 20.3)                              0.0250  "
      ]
     },
     "execution_count": 19,
     "metadata": {},
     "output_type": "execute_result"
    }
   ],
   "source": [
    "table"
   ]
  },
  {
   "cell_type": "code",
   "execution_count": null,
   "metadata": {},
   "outputs": [],
   "source": []
  }
 ],
 "metadata": {
  "kernelspec": {
   "display_name": "Python 3",
   "language": "python",
   "name": "python3"
  },
  "language_info": {
   "codemirror_mode": {
    "name": "ipython",
    "version": 3
   },
   "file_extension": ".py",
   "mimetype": "text/x-python",
   "name": "python",
   "nbconvert_exporter": "python",
   "pygments_lexer": "ipython3",
   "version": "3.6.5"
  }
 },
 "nbformat": 4,
 "nbformat_minor": 2
}
