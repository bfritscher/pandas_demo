{
 "cells": [
  {
   "cell_type": "code",
   "execution_count": 2,
   "metadata": {},
   "outputs": [],
   "source": [
    "import pandas as pd"
   ]
  },
  {
   "cell_type": "code",
   "execution_count": 22,
   "metadata": {},
   "outputs": [
    {
     "data": {
      "text/html": [
       "<div>\n",
       "<style scoped>\n",
       "    .dataframe tbody tr th:only-of-type {\n",
       "        vertical-align: middle;\n",
       "    }\n",
       "\n",
       "    .dataframe tbody tr th {\n",
       "        vertical-align: top;\n",
       "    }\n",
       "\n",
       "    .dataframe thead th {\n",
       "        text-align: right;\n",
       "    }\n",
       "</style>\n",
       "<table border=\"1\" class=\"dataframe\">\n",
       "  <thead>\n",
       "    <tr style=\"text-align: right;\">\n",
       "      <th></th>\n",
       "      <th>obs</th>\n",
       "    </tr>\n",
       "  </thead>\n",
       "  <tbody>\n",
       "    <tr>\n",
       "      <th>0</th>\n",
       "      <td>2.4</td>\n",
       "    </tr>\n",
       "    <tr>\n",
       "      <th>1</th>\n",
       "      <td>6.3</td>\n",
       "    </tr>\n",
       "    <tr>\n",
       "      <th>2</th>\n",
       "      <td>7.2</td>\n",
       "    </tr>\n",
       "    <tr>\n",
       "      <th>3</th>\n",
       "      <td>9.7</td>\n",
       "    </tr>\n",
       "    <tr>\n",
       "      <th>4</th>\n",
       "      <td>0.8</td>\n",
       "    </tr>\n",
       "  </tbody>\n",
       "</table>\n",
       "</div>"
      ],
      "text/plain": [
       "   obs\n",
       "0  2.4\n",
       "1  6.3\n",
       "2  7.2\n",
       "3  9.7\n",
       "4  0.8"
      ]
     },
     "execution_count": 22,
     "metadata": {},
     "output_type": "execute_result"
    }
   ],
   "source": [
    "df = pd.read_csv(\"https://raw.githubusercontent.com/bfritscher/pandas_demo/master/statistiques/Exercice_5.csv\", index_col=False)\n",
    "df.head(5)"
   ]
  },
  {
   "cell_type": "code",
   "execution_count": 23,
   "metadata": {},
   "outputs": [
    {
     "data": {
      "text/plain": [
       "(495, 1)"
      ]
     },
     "execution_count": 23,
     "metadata": {},
     "output_type": "execute_result"
    }
   ],
   "source": [
    "df.shape"
   ]
  },
  {
   "cell_type": "code",
   "execution_count": 20,
   "metadata": {},
   "outputs": [
    {
     "data": {
      "text/plain": [
       "[0.2, 12.9]"
      ]
     },
     "execution_count": 20,
     "metadata": {},
     "output_type": "execute_result"
    }
   ],
   "source": [
    "[df[\"obs\"].min(), df[\"obs\"].max()]"
   ]
  },
  {
   "cell_type": "code",
   "execution_count": 25,
   "metadata": {},
   "outputs": [
    {
     "data": {
      "text/plain": [
       "(0, 3]      181\n",
       "(3, 6]       94\n",
       "(6, 9]       77\n",
       "(9, 12]     106\n",
       "(12, 14]     37\n",
       "Name: obs, dtype: int64"
      ]
     },
     "execution_count": 25,
     "metadata": {},
     "output_type": "execute_result"
    }
   ],
   "source": [
    "bins = [0,3,6,9,12,14]\n",
    "discret = pd.cut(df[\"obs\"], bins)\n",
    "s = discret.value_counts().sort_index()\n",
    "s"
   ]
  },
  {
   "cell_type": "code",
   "execution_count": 27,
   "metadata": {},
   "outputs": [
    {
     "data": {
      "text/plain": [
       "Text(0,0.5,'Nb de collaborateurs')"
      ]
     },
     "execution_count": 27,
     "metadata": {},
     "output_type": "execute_result"
    },
    {
     "data": {
      "image/png": "[encoded data removed]",
      "text/plain": [
       "<Figure size 432x288 with 1 Axes>"
      ]
     },
     "metadata": {},
     "output_type": "display_data"
    }
   ],
   "source": [
    "g = s.plot(kind=\"bar\", title=\"Ocupation de l'espace disque en fonction\\ndu nombre de collaborateurs\", rot=0, color=['tab:orange',]*12, width=0.8)\n",
    "g.set_xlabel(\"Espace disque (GB)\")\n",
    "g.set_ylabel(\"Nb de collaborateurs\")"
   ]
  },
  {
   "cell_type": "code",
   "execution_count": 28,
   "metadata": {},
   "outputs": [],
   "source": [
    "table = s.to_frame(\"Effectifs\")"
   ]
  },
  {
   "cell_type": "code",
   "execution_count": 35,
   "metadata": {},
   "outputs": [],
   "source": [
    "table[\"Fréquences\"] = table.apply(lambda n: n / table[\"Effectifs\"].sum() ).round(2)"
   ]
  },
  {
   "cell_type": "code",
   "execution_count": 37,
   "metadata": {},
   "outputs": [],
   "source": [
    "table[\"Effectifs cumulés croissants\"] = s.cumsum()"
   ]
  },
  {
   "cell_type": "code",
   "execution_count": 40,
   "metadata": {},
   "outputs": [],
   "source": [
    "table[\"Fréquences cumulées croissantes\"] = table[\"Effectifs cumulés croissants\"].apply(lambda n: n / table[\"Effectifs\"].sum() ).round(2)"
   ]
  },
  {
   "cell_type": "code",
   "execution_count": 41,
   "metadata": {},
   "outputs": [],
   "source": [
    "table[\"Effectifs cumulés décroissants\"] = table[\"Effectifs\"].loc[::-1].cumsum()"
   ]
  },
  {
   "cell_type": "code",
   "execution_count": 42,
   "metadata": {},
   "outputs": [],
   "source": [
    "table[\"Fréquences cumulées décroissantes\"] = table[\"Effectifs cumulés décroissants\"].apply(lambda n: n / table[\"Effectifs\"].sum() ).round(2)"
   ]
  },
  {
   "cell_type": "code",
   "execution_count": 43,
   "metadata": {},
   "outputs": [
    {
     "data": {
      "text/html": [
       "<div>\n",
       "<style scoped>\n",
       "    .dataframe tbody tr th:only-of-type {\n",
       "        vertical-align: middle;\n",
       "    }\n",
       "\n",
       "    .dataframe tbody tr th {\n",
       "        vertical-align: top;\n",
       "    }\n",
       "\n",
       "    .dataframe thead th {\n",
       "        text-align: right;\n",
       "    }\n",
       "</style>\n",
       "<table border=\"1\" class=\"dataframe\">\n",
       "  <thead>\n",
       "    <tr style=\"text-align: right;\">\n",
       "      <th></th>\n",
       "      <th>Effectifs</th>\n",
       "      <th>Fréquences</th>\n",
       "      <th>Effectifs cumulés croissants</th>\n",
       "      <th>Fréquences cumulées croissantes</th>\n",
       "      <th>Effectifs cumulés décroissants</th>\n",
       "      <th>Fréquences cumulées décroissantes</th>\n",
       "    </tr>\n",
       "  </thead>\n",
       "  <tbody>\n",
       "    <tr>\n",
       "      <th>(0, 3]</th>\n",
       "      <td>181</td>\n",
       "      <td>0.37</td>\n",
       "      <td>181</td>\n",
       "      <td>0.37</td>\n",
       "      <td>495</td>\n",
       "      <td>1.00</td>\n",
       "    </tr>\n",
       "    <tr>\n",
       "      <th>(3, 6]</th>\n",
       "      <td>94</td>\n",
       "      <td>0.19</td>\n",
       "      <td>275</td>\n",
       "      <td>0.56</td>\n",
       "      <td>314</td>\n",
       "      <td>0.63</td>\n",
       "    </tr>\n",
       "    <tr>\n",
       "      <th>(6, 9]</th>\n",
       "      <td>77</td>\n",
       "      <td>0.16</td>\n",
       "      <td>352</td>\n",
       "      <td>0.71</td>\n",
       "      <td>220</td>\n",
       "      <td>0.44</td>\n",
       "    </tr>\n",
       "    <tr>\n",
       "      <th>(9, 12]</th>\n",
       "      <td>106</td>\n",
       "      <td>0.21</td>\n",
       "      <td>458</td>\n",
       "      <td>0.93</td>\n",
       "      <td>143</td>\n",
       "      <td>0.29</td>\n",
       "    </tr>\n",
       "    <tr>\n",
       "      <th>(12, 14]</th>\n",
       "      <td>37</td>\n",
       "      <td>0.07</td>\n",
       "      <td>495</td>\n",
       "      <td>1.00</td>\n",
       "      <td>37</td>\n",
       "      <td>0.07</td>\n",
       "    </tr>\n",
       "  </tbody>\n",
       "</table>\n",
       "</div>"
      ],
      "text/plain": [
       "          Effectifs  Fréquences  Effectifs cumulés croissants  \\\n",
       "(0, 3]          181        0.37                           181   \n",
       "(3, 6]           94        0.19                           275   \n",
       "(6, 9]           77        0.16                           352   \n",
       "(9, 12]         106        0.21                           458   \n",
       "(12, 14]         37        0.07                           495   \n",
       "\n",
       "          Fréquences cumulées croissantes  Effectifs cumulés décroissants  \\\n",
       "(0, 3]                               0.37                             495   \n",
       "(3, 6]                               0.56                             314   \n",
       "(6, 9]                               0.71                             220   \n",
       "(9, 12]                              0.93                             143   \n",
       "(12, 14]                             1.00                              37   \n",
       "\n",
       "          Fréquences cumulées décroissantes  \n",
       "(0, 3]                                 1.00  \n",
       "(3, 6]                                 0.63  \n",
       "(6, 9]                                 0.44  \n",
       "(9, 12]                                0.29  \n",
       "(12, 14]                               0.07  "
      ]
     },
     "execution_count": 43,
     "metadata": {},
     "output_type": "execute_result"
    }
   ],
   "source": [
    "table"
   ]
  },
  {
   "cell_type": "code",
   "execution_count": null,
   "metadata": {},
   "outputs": [],
   "source": []
  }
 ],
 "metadata": {
  "kernelspec": {
   "display_name": "Python 3",
   "language": "python",
   "name": "python3"
  },
  "language_info": {
   "codemirror_mode": {
    "name": "ipython",
    "version": 3
   },
   "file_extension": ".py",
   "mimetype": "text/x-python",
   "name": "python",
   "nbconvert_exporter": "python",
   "pygments_lexer": "ipython3",
   "version": "3.6.5"
  }
 },
 "nbformat": 4,
 "nbformat_minor": 2
}
